{
 "cells": [
  {
   "cell_type": "markdown",
   "metadata": {},
   "source": [
    "# Python Basic"
   ]
  },
  {
   "cell_type": "code",
   "execution_count": 1,
   "metadata": {
    "collapsed": false
   },
   "outputs": [
    {
     "data": {
      "text/plain": [
       "5"
      ]
     },
     "execution_count": 1,
     "metadata": {},
     "output_type": "execute_result"
    }
   ],
   "source": [
    "a = 3\n",
    "b = 2\n",
    "a + b"
   ]
  },
  {
   "cell_type": "code",
   "execution_count": 2,
   "metadata": {
    "collapsed": false
   },
   "outputs": [
    {
     "data": {
      "text/plain": [
       "24"
      ]
     },
     "execution_count": 2,
     "metadata": {},
     "output_type": "execute_result"
    }
   ],
   "source": [
    "a * 8"
   ]
  },
  {
   "cell_type": "code",
   "execution_count": 3,
   "metadata": {
    "collapsed": false
   },
   "outputs": [
    {
     "name": "stdout",
     "output_type": "stream",
     "text": [
      "Hello World\n"
     ]
    }
   ],
   "source": [
    "print(\"Hello World\")"
   ]
  },
  {
   "cell_type": "code",
   "execution_count": 9,
   "metadata": {
    "collapsed": false
   },
   "outputs": [
    {
     "data": {
      "image/png": "[encoded data removed]",
      "text/plain": [
       "<PIL.PngImagePlugin.PngImageFile image mode=P size=163x51 at 0x3C6CC50>"
      ]
     },
     "execution_count": 9,
     "metadata": {},
     "output_type": "execute_result"
    }
   ],
   "source": [
    "from PIL import Image\n",
    "logo = Image.open(\"logo.png\")\n",
    "logo"
   ]
  },
  {
   "cell_type": "markdown",
   "metadata": {
    "collapsed": true
   },
   "source": [
    "## Web Crawler"
   ]
  },
  {
   "cell_type": "code",
   "execution_count": 10,
   "metadata": {
    "collapsed": true
   },
   "outputs": [],
   "source": [
    "import requests\n",
    "?requests"
   ]
  },
  {
   "cell_type": "code",
   "execution_count": 11,
   "metadata": {
    "collapsed": false
   },
   "outputs": [
    {
     "data": {
      "text/plain": [
       "['ConnectionError',\n",
       " 'HTTPError',\n",
       " 'NullHandler',\n",
       " 'PreparedRequest',\n",
       " 'Request',\n",
       " 'RequestException',\n",
       " 'Response',\n",
       " 'Session',\n",
       " 'Timeout',\n",
       " 'TooManyRedirects',\n",
       " 'URLRequired',\n",
       " '__author__',\n",
       " '__build__',\n",
       " '__builtins__',\n",
       " '__copyright__',\n",
       " '__doc__',\n",
       " '__file__',\n",
       " '__license__',\n",
       " '__name__',\n",
       " '__package__',\n",
       " '__path__',\n",
       " '__title__',\n",
       " '__version__',\n",
       " 'adapters',\n",
       " 'api',\n",
       " 'auth',\n",
       " 'certs',\n",
       " 'codes',\n",
       " 'compat',\n",
       " 'cookies',\n",
       " 'delete',\n",
       " 'exceptions',\n",
       " 'get',\n",
       " 'head',\n",
       " 'hooks',\n",
       " 'logging',\n",
       " 'models',\n",
       " 'options',\n",
       " 'packages',\n",
       " 'patch',\n",
       " 'post',\n",
       " 'put',\n",
       " 'request',\n",
       " 'session',\n",
       " 'sessions',\n",
       " 'status_codes',\n",
       " 'structures',\n",
       " 'utils']"
      ]
     },
     "execution_count": 11,
     "metadata": {},
     "output_type": "execute_result"
    }
   ],
   "source": [
    "dir(requests)"
   ]
  },
  {
   "cell_type": "code",
   "execution_count": 12,
   "metadata": {
    "collapsed": true
   },
   "outputs": [],
   "source": [
    "res = requests.get('http://www.appledaily.com.tw/realtimenews/article/entertainment/20160627/895045/%E5%B8%83%E9%AD%AF%E5%85%8B%E6%9E%97%E6%8A%8A%E5%A6%B9%E6%9C%89%E4%B8%80%E5%A5%97%E3%80%80%E9%9D%A0%E9%80%99%E5%85%A9%E6%8B%9B%E6%94%B6%E6%9C%8D%E8%B6%85%E6%AE%BA%E5%A5%B3')"
   ]
  },
  {
   "cell_type": "code",
   "execution_count": 13,
   "metadata": {
    "collapsed": false
   },
   "outputs": [
    {
     "name": "stdout",
     "output_type": "stream",
     "text": [
      "<Response [200]>\n"
     ]
    }
   ],
   "source": [
    "print(res)"
   ]
  },
  {
   "cell_type": "code",
   "execution_count": 15,
   "metadata": {
    "collapsed": false
   },
   "outputs": [],
   "source": [
    "#print(res.text)"
   ]
  },
  {
   "cell_type": "markdown",
   "metadata": {},
   "source": [
    "## 第一支網路爬蟲"
   ]
  },
  {
   "cell_type": "code",
   "execution_count": 17,
   "metadata": {
    "collapsed": false
   },
   "outputs": [
    {
     "name": "stdout",
     "output_type": "stream",
     "text": [
      "<Response [200]>\n"
     ]
    }
   ],
   "source": [
    "import requests\n",
    "res = requests.get('http://www.appledaily.com.tw/realtimenews/article/entertainment/20160627/895045/%E5%B8%83%E9%AD%AF%E5%85%8B%E6%9E%97%E6%8A%8A%E5%A6%B9%E6%9C%89%E4%B8%80%E5%A5%97%E3%80%80%E9%9D%A0%E9%80%99%E5%85%A9%E6%8B%9B%E6%94%B6%E6%9C%8D%E8%B6%85%E6%AE%BA%E5%A5%B3')\n",
    "print(res)\n",
    "#print res.text"
   ]
  },
  {
   "cell_type": "markdown",
   "metadata": {},
   "source": [
    "## 台灣高鐵的爬蟲"
   ]
  },
  {
   "cell_type": "code",
   "execution_count": 18,
   "metadata": {
    "collapsed": false
   },
   "outputs": [
    {
     "name": "stdout",
     "output_type": "stream",
     "text": [
      "apple\n"
     ]
    }
   ],
   "source": [
    "dic ={'a':'apple', 'b': 'bananna', 'c':'cat'}\n",
    "print(dic['a'])"
   ]
  },
  {
   "cell_type": "code",
   "execution_count": 20,
   "metadata": {
    "collapsed": false
   },
   "outputs": [],
   "source": [
    "import requests\n",
    "payload = {\n",
    "'StartStation':'977abb69-413a-4ccf-a109-0272c24fd490',\n",
    "'EndStation':'3301e395-46b8-47aa-aa37-139e15708779',\n",
    "'SearchDate':'2016/06/27',\n",
    "'SearchTime':'13:30',\n",
    "'SearchWay':'DepartureInMandarin'\n",
    "}\n",
    "res = requests.post('https://www.thsrc.com.tw/tw/TimeTable/SearchResult', data = payload)\n",
    "#print(res.text)"
   ]
  },
  {
   "cell_type": "markdown",
   "metadata": {},
   "source": [
    "## 台鐵\n",
    "- http://twtraffic.tra.gov.tw/twrail/EasySearch.aspx"
   ]
  },
  {
   "cell_type": "code",
   "execution_count": 29,
   "metadata": {
    "collapsed": false
   },
   "outputs": [
    {
     "name": "stdout",
     "output_type": "stream",
     "text": [
      "<class 'requests.models.Response'>\n"
     ]
    }
   ],
   "source": [
    "import requests\n",
    "res = requests.get('http://twtraffic.tra.gov.tw/twrail/SearchResult.aspx?searchtype=0&searchdate=2016/06/27&fromstation=1324&tostation=1315&trainclass=2&fromtime=0600&totime=2359')\n",
    "print type(res)\n",
    "#print(res.text)"
   ]
  },
  {
   "cell_type": "markdown",
   "metadata": {},
   "source": [
    "## BeautifulSoup4"
   ]
  },
  {
   "cell_type": "code",
   "execution_count": 26,
   "metadata": {
    "collapsed": false
   },
   "outputs": [
    {
     "name": "stdout",
     "output_type": "stream",
     "text": [
      " <html>  <body>  <h1 id=\"title\">Hello World</h1>  <a href=\"#\" class=\"link\">This is link1</a>  <a href=\"# link2\" class=\"link\">This is link2</a>  </body>  </html>\n"
     ]
    }
   ],
   "source": [
    "html_sample = ' \\\n",
    "<html> \\\n",
    " <body> \\\n",
    " <h1 id=\"title\">Hello World</h1> \\\n",
    " <a href=\"#\" class=\"link\">This is link1</a> \\\n",
    " <a href=\"# link2\" class=\"link\">This is link2</a> \\\n",
    " </body> \\\n",
    " </html>'\n",
    "\n",
    "print(html_sample)"
   ]
  },
  {
   "cell_type": "code",
   "execution_count": 30,
   "metadata": {
    "collapsed": false
   },
   "outputs": [
    {
     "name": "stdout",
     "output_type": "stream",
     "text": [
      "<class 'bs4.BeautifulSoup'>\n",
      "   Hello World This is link1 This is link2  \n"
     ]
    }
   ],
   "source": [
    "from bs4 import BeautifulSoup \n",
    "soup = BeautifulSoup(html_sample, 'html.parser')\n",
    "print(type(soup))\n",
    "print(soup.text)"
   ]
  },
  {
   "cell_type": "code",
   "execution_count": 32,
   "metadata": {
    "collapsed": false
   },
   "outputs": [
    {
     "name": "stdout",
     "output_type": "stream",
     "text": [
      "1\n"
     ]
    }
   ],
   "source": [
    "a = 1\n",
    "b= [1,2,3]\n",
    "print(b[0])"
   ]
  },
  {
   "cell_type": "code",
   "execution_count": 33,
   "metadata": {
    "collapsed": false
   },
   "outputs": [
    {
     "name": "stdout",
     "output_type": "stream",
     "text": [
      "[<h1 id=\"title\">Hello World</h1>]\n"
     ]
    }
   ],
   "source": [
    "print(soup.select('h1'))"
   ]
  },
  {
   "cell_type": "code",
   "execution_count": 36,
   "metadata": {
    "collapsed": false
   },
   "outputs": [
    {
     "name": "stdout",
     "output_type": "stream",
     "text": [
      "<h1 id=\"title\">Hello World</h1>\n",
      "<class 'bs4.element.Tag'>\n"
     ]
    }
   ],
   "source": [
    "print(soup.select('h1')[0])\n",
    "print(type(soup.select('h1')[0]))"
   ]
  },
  {
   "cell_type": "code",
   "execution_count": 37,
   "metadata": {
    "collapsed": false
   },
   "outputs": [
    {
     "name": "stdout",
     "output_type": "stream",
     "text": [
      "Hello World\n"
     ]
    }
   ],
   "source": [
    "print(soup.select('h1')[0].text)"
   ]
  },
  {
   "cell_type": "code",
   "execution_count": 41,
   "metadata": {
    "collapsed": false
   },
   "outputs": [
    {
     "name": "stdout",
     "output_type": "stream",
     "text": [
      "[<a class=\"link\" href=\"#\">This is link1</a>, <a class=\"link\" href=\"# link2\">This is link2</a>]\n",
      "<a class=\"link\" href=\"#\">This is link1</a>\n",
      "<a class=\"link\" href=\"# link2\">This is link2</a>\n"
     ]
    }
   ],
   "source": [
    "print(soup.select('a'))\n",
    "print(soup.select('a')[0])\n",
    "print(soup.select('a')[1])"
   ]
  },
  {
   "cell_type": "code",
   "execution_count": 42,
   "metadata": {
    "collapsed": false
   },
   "outputs": [
    {
     "name": "stdout",
     "output_type": "stream",
     "text": [
      "This is link1\n",
      "This is link2\n"
     ]
    }
   ],
   "source": [
    "for a in soup.select('a'):\n",
    "    print(a.text)"
   ]
  },
  {
   "cell_type": "code",
   "execution_count": 43,
   "metadata": {
    "collapsed": false
   },
   "outputs": [
    {
     "name": "stdout",
     "output_type": "stream",
     "text": [
      "[<h1 id=\"title\">Hello World</h1>]\n"
     ]
    }
   ],
   "source": [
    "print(soup.select('#title')) # id => #"
   ]
  },
  {
   "cell_type": "code",
   "execution_count": 44,
   "metadata": {
    "collapsed": false
   },
   "outputs": [
    {
     "name": "stdout",
     "output_type": "stream",
     "text": [
      "[<a class=\"link\" href=\"#\">This is link1</a>, <a class=\"link\" href=\"# link2\">This is link2</a>]\n"
     ]
    }
   ],
   "source": [
    "print(soup.select('.link')) # class => ."
   ]
  },
  {
   "cell_type": "markdown",
   "metadata": {},
   "source": [
    "## 剖析蘋果頁面"
   ]
  },
  {
   "cell_type": "code",
   "execution_count": 45,
   "metadata": {
    "collapsed": false
   },
   "outputs": [
    {
     "name": "stdout",
     "output_type": "stream",
     "text": [
      "\n",
      "13:55\n",
      "財經\n",
      "工商團體放話終止勞資協商　網友一片罵聲(0)\n",
      "\n",
      "\n",
      "13:52\n",
      "國際\n",
      "遇上功夫大媽　公車女賊立刻被ＫＯ(0)\n",
      "\n",
      "\n",
      "13:50\n",
      "國際\n",
      "【央廣RTI】希拉蕊抨擊共和黨癱瘓國會(0)\n",
      "\n",
      "\n",
      "【動行銷】痘痘狼入侵 日本勇士出手相救 (5369)\n",
      "\n",
      "\n",
      "13:50\n",
      "生活\n",
      "【央廣RTI】國人年丟520萬件衣服 鞋...(0)\n",
      "\n",
      "\n",
      "13:46\n",
      "國際\n",
      "【恐怖】蘇格蘭雲霄飛車脫軌　從10公尺高...(86987)\n",
      "\n",
      "\n",
      "13:46\n",
      "社會\n",
      "10小時進出派出所2次　全敗在禿頭(208)\n",
      "\n",
      "\n",
      "13:46\n",
      "國際\n",
      "再有三艘中國海警船　進入釣島附近海域(188)\n",
      "\n",
      "\n",
      "13:45\n",
      "國際\n",
      "銅鑼灣書店店長林榮基　今赴警局做筆錄(69)\n",
      "\n",
      "\n",
      "13:40\n",
      "論壇\n",
      "【公庫】空服員罷工是如何練成的？(3216)\n",
      "\n",
      "\n",
      "13:39\n",
      "財經\n",
      "【有片】恐慌氣氛散去　台股開低走高小跌1...(462)\n",
      "\n",
      "\n",
      "13:36\n",
      "娛樂\n",
      "小豬老年照喊老婆　周揚青甜讚好帥(1260)\n",
      "\n",
      "\n",
      "13:32\n",
      "國際\n",
      "【圖集】終極化妝　恐怖到讓你叫不敢(435)\n",
      "\n",
      "\n",
      "13:31\n",
      "時尚\n",
      "【潮片】adidas巴黎秀　新鞋設計帥翻...(639)\n",
      "\n",
      "\n",
      "13:28\n",
      "娛樂\n",
      "【娛樂直擊】鄭進一台中玩酒店　十指緊扣好...(173905)\n",
      "\n",
      "\n",
      "【特企】暑假慢活慢遊　21國際渡假村是旅... (2740)\n",
      "\n",
      "\n",
      "13:28\n",
      "政治\n",
      "立院初審陸配取得身分證6年不變　還須具備...(2180)\n",
      "\n",
      "\n",
      "13:28\n",
      "社會\n",
      "好牛！洗衣店被開244張罰單　拒繳被查封(2672)\n",
      "\n",
      "\n",
      "13:28\n",
      "生活\n",
      "不只台北盆地熱　鄭明典：今天台灣都熱(747)\n",
      "\n",
      "\n",
      "13:26\n",
      "動物\n",
      "保護「象腿」　他們給牠吃這個！(613)\n",
      "\n",
      "\n",
      "13:25\n",
      "正妹\n",
      "車頭燈只是基本配備　她全身都有看頭(5824)\n",
      "\n",
      "\n",
      "13:23\n",
      "體育\n",
      "【打槍】杜蘭特去哪兒　家鄉巫師幾乎出局(5308)\n",
      "\n",
      "\n",
      "13:23\n",
      "社會\n",
      "另類仙人跳　他到這公園色誘打劫男同志(1513)\n",
      "\n",
      "\n",
      "13:23\n",
      "國際\n",
      "​【貨輪好大】巴拿馬運河拓寬　中國貨輪首...(606)\n",
      "\n",
      "\n",
      "13:22\n",
      "生活\n",
      "2周才給工會答案　何煖軒：我搞不清楚狀況(15518)\n",
      "\n",
      "\n",
      "13:22\n",
      "生活\n",
      "推廣鐵道旅遊　台鐵仲夏寶島號列車(357)\n",
      "\n",
      "\n",
      "13:18\n",
      "生活\n",
      "後天起　中華郵政續發行紅樓夢系列郵票　(262)\n",
      "\n",
      "\n",
      "13:15\n",
      "體育\n",
      "Kobe旋風抵台北　南港運動中心指導菁英...(4709)\n",
      "\n",
      "\n",
      "13:13\n",
      "體育\n",
      "林智勝獲手套代言　盼能拿下第2座金手套獎(778)\n",
      "\n",
      "\n",
      "13:12\n",
      "社會\n",
      "聽聞萬海追討善款　朱立倫搖頭譴責(2410)\n",
      "\n",
      "\n",
      "13:11\n",
      "動物\n",
      "【一刀未剪】泯滅人性！海陸隊員爆集體虐殺...(110027)\n",
      "\n",
      "\n",
      "13:10\n",
      "國際\n",
      "萬人上街抗議建農藥廠　市政府趕忙低頭(1333)\n",
      "\n"
     ]
    }
   ],
   "source": [
    "import requests\n",
    "from bs4 import BeautifulSoup\n",
    "res = requests.get('http://www.appledaily.com.tw/realtimenews/section/new/')\n",
    "soup = BeautifulSoup(res.text)\n",
    "for news in soup.select('.rtddt a'):\n",
    "    print(news.text)"
   ]
  },
  {
   "cell_type": "code",
   "execution_count": 62,
   "metadata": {
    "collapsed": false
   },
   "outputs": [
    {
     "name": "stdout",
     "output_type": "stream",
     "text": [
      "www.largitdata.com\n",
      "123\n",
      "456\n"
     ]
    }
   ],
   "source": [
    "link = '<a href=\"www.largitdata.com\" qoo=123 abc =456>link</a>'\n",
    "s =  BeautifulSoup(link)\n",
    "print(s.select('a')[0]['href'])\n",
    "print(s.select('a')[0]['qoo'])\n",
    "print(s.select('a')[0]['abc'])"
   ]
  },
  {
   "cell_type": "code",
   "execution_count": 66,
   "metadata": {
    "collapsed": false,
    "scrolled": true
   },
   "outputs": [
    {
     "name": "stdout",
     "output_type": "stream",
     "text": [
      "【不斷更新】中職2016年選秀　蘇智傑成...(2760) 體育 14:29 http://www.appledaily.com.tw/realtimenews/article/sports/20160627/895243/【不斷更新】中職2016年選秀　蘇智傑成狀元\n",
      "半身刺青燒烤迎客　海鮮哥送暖粥助獨老(21221) 生活 14:27 http://www.appledaily.com.tw/realtimenews/article/life/20160627/894839/半身刺青燒烤迎客　海鮮哥送暖粥助獨老\n",
      "憂「紅牌」制裁　蘇澳漁民籲速過漁業三法(0) 社會 14:27 http://www.appledaily.com.tw/realtimenews/article/local/20160627/895282/憂「紅牌」制裁　蘇澳漁民籲速過漁業三法\n",
      "【央廣RTI】俄下議院通過「老大哥」反恐...(0) 國際 14:25 http://www.appledaily.com.tw/realtimenews/article/international/20160627/895269/【央廣RTI】俄下議院通過「老大哥」反恐法\n",
      "【獨家】戎祥遺孀賴芊合急診　洋男友曝光！(0) 娛樂 14:25 http://www.appledaily.com.tw/realtimenews/article/entertainment/20160627/895271/【獨家】戎祥遺孀賴芊合急診　洋男友曝光！\n",
      "【有片】人妻告詐騙　警竟帶她上摩鐵「討論...(16178) 社會 14:21 http://www.appledaily.com.tw/realtimenews/article/local/20160627/895133/【有片】人妻告詐騙　警竟帶她上摩鐵「討論案情」\n",
      "若不同意8訴求　華航企業工會：街頭抗議見(17384) 社會 14:20 http://www.appledaily.com.tw/realtimenews/article/local/20160627/895179/若不同意8訴求　華航企業工會：街頭抗議見\n",
      "【央廣RTI】華航空服員罷工 3天損失5...(27) 生活 14:20 http://www.appledaily.com.tw/realtimenews/article/life/20160627/895278/【央廣RTI】華航空服員罷工3天損失5億元\n",
      "【英國脫歐】誤會大惹！索羅斯居然未放空英...(147) 財經 14:19 http://www.appledaily.com.tw/realtimenews/article/finance/20160627/895279/【英國脫歐】誤會大惹！索羅斯居然未放空英鎊\n",
      "【壹週刊】現在是最好的創業時代(185) 壹週刊 14:16 http://www.appledaily.com.tw/realtimenews/article/nextmag/20160627/895226/【壹週刊】現在是最好的創業時代\n",
      "2周才給工會答案　何煖軒：我搞不清楚狀況(24572) 生活 14:15 http://www.appledaily.com.tw/realtimenews/article/life/20160627/895229/2周才給工會答案　何煖軒：我搞不清楚狀況\n",
      "癌末男醫院前哭泣　女網友善舉撼動上萬人(39726) 生活 14:13 http://www.appledaily.com.tw/realtimenews/article/life/20160627/894921/癌末男醫院前哭泣　女網友善舉撼動上萬人\n",
      "【壹週刊】他曾經是只知吃喝的空少  卻因...(403) 壹週刊 14:10 http://www.appledaily.com.tw/realtimenews/article/nextmag/20160627/895202/【壹週刊】他曾經是只知吃喝的空少卻因這件事跳出來罷工\n",
      "中芯併LFoundry　產能緊追三星(13) 財經 14:10 http://www.appledaily.com.tw/realtimenews/article/finance/20160627/895273/中芯併LFoundry　產能緊追三星\n",
      "【有片】立院初審陸配取得身分證6年不變　...(4514) 政治 14:09 http://www.appledaily.com.tw/realtimenews/article/politics/20160627/895197/【有片】立院初審陸配取得身分證6年不變　還須具備基本常識能力\n",
      "【台灣英文新聞】運河容量大增3倍！「世界...(279) 國際 14:09 http://www.appledaily.com.tw/realtimenews/article/international/20160627/895272/【台灣英文新聞】運河容量大增3倍！「世界橋梁」拓寬竣工\n",
      "【更新】機捷測試車載行李　延誤達45分鐘(2018) 生活 14:08 http://www.appledaily.com.tw/realtimenews/article/life/20160627/895199/【更新】機捷測試車載行李　延誤達45分鐘\n",
      "【央廣RTI】美洲盃爭冠失利 梅西宣布從...(560) 國際 14:05 http://www.appledaily.com.tw/realtimenews/article/international/20160627/895263/【央廣RTI】美洲盃爭冠失利梅西宣布從國際賽退休\n",
      "【心碎】梅西退出國家隊　終生無緣大賽冠軍(1185) 體育 14:03 http://www.appledaily.com.tw/realtimenews/article/sports/20160627/895265/【心碎】梅西退出國家隊　終生無緣大賽冠軍\n",
      "正妹小露性感　但大家覺得她沒穿褲子　(3838) 生活 14:02 http://www.appledaily.com.tw/realtimenews/article/life/20160627/895241/正妹小露性感　但大家覺得她沒穿褲子　\n",
      "華航罷工損失5億 何煖軒炮打舊高層(157) 生活 14:02 http://www.appledaily.com.tw/realtimenews/article/life/20160627/895268/華航罷工損失5億何煖軒炮打舊高層\n",
      "吃什麼會爆乳！李愛綺蹦E奶前吃了這個(2426) 娛樂 14:01 http://www.appledaily.com.tw/realtimenews/article/entertainment/20160627/894896/吃什麼會爆乳！李愛綺蹦E奶前吃了這個\n",
      "中國「蛇精男」後再現「魚精女」　堪稱最醜...(1999) 國際 14:01 http://www.appledaily.com.tw/realtimenews/article/international/20160627/895245/中國「蛇精男」後再現「魚精女」　堪稱最醜魚類\n",
      "脫隊又跟訪挨批　黃國昌：沒把出訪當自由行(1393) 政治 14:01 http://www.appledaily.com.tw/realtimenews/article/politics/20160627/895260/脫隊又跟訪挨批　黃國昌：沒把出訪當自由行\n",
      "【蘋果足球】[片]美洲盃|梅西退出阿根廷...(155) 體育 14:00 http://www.appledaily.com.tw/realtimenews/article/sports/20160627/891837/【蘋果足球】[片]美洲盃|梅西退出阿根廷國家隊\n",
      "罷工風波後　華航董座：高層人事將進行改組(6029) 生活 14:00 http://www.appledaily.com.tw/realtimenews/article/life/20160627/895056/罷工風波後　華航董座：高層人事將進行改組\n",
      "提款機大盜再現　貨車勾拖卻被警鈴嚇跑(68) 社會 14:00 http://www.appledaily.com.tw/realtimenews/article/local/20160627/895205/提款機大盜再現　貨車勾拖卻被警鈴嚇跑\n",
      "【央廣RTI】為喵星人找家 台灣流浪貓的...(120) 生活 13:58 http://www.appledaily.com.tw/realtimenews/article/life/20160627/895262/【央廣RTI】為喵星人找家台灣流浪貓的守護神\n",
      "錯誤示範！　潛水戲龜教練挨轟(556) 動物 13:57 http://www.appledaily.com.tw/realtimenews/article/animal/20160627/895235/錯誤示範！　潛水戲龜教練挨轟\n",
      "工商團體放話終止勞資協商　網友一片罵聲(1803) 財經 13:55 http://www.appledaily.com.tw/realtimenews/article/finance/20160627/895258/工商團體放話終止勞資協商　網友一片罵聲\n"
     ]
    }
   ],
   "source": [
    "import requests\n",
    "from bs4 import BeautifulSoup\n",
    "domain = 'http://www.appledaily.com.tw'\n",
    "res = requests.get('http://www.appledaily.com.tw/realtimenews/section/new/')\n",
    "soup = BeautifulSoup(res.text)\n",
    "for news in soup.select('.rtddt a'):\n",
    "    #print(news)\n",
    "    if len(news.select('h1')) >0:\n",
    "        print(news.select('h1')[0].text,news.select('h2')[0].text, news.select('time')[0].text, domain + news['href'])"
   ]
  },
  {
   "cell_type": "code",
   "execution_count": 71,
   "metadata": {
    "collapsed": false
   },
   "outputs": [
    {
     "name": "stdout",
     "output_type": "stream",
     "text": [
      "\n",
      "（更新：協商進度）14:20華航企業工會與資方協商在中午休息1小時後，下午1時30分再度展開第2次協商會議，重新協商所有工會要求，但談判重啟不到40分鐘，資方僅同意第一條要求，恢復全體員工年度晉支，並追補原凍結之年資。隨後雙方談到第二條，全體員工（包含機師）交通時間，併入工作時間計算。就又再度陷入僵局，華航董事長何煖軒表，「今天才第一次看到公會要求，怎麼決定」，於是雙方決定在下午3時30重回談判桌。12:19華航空服員罷工才剛落幕，華航企業工會今天上午10時許，在華航企業總部與董事長何煖軒展開首次協商，但何煖軒遲到20分鐘，引發到場的工會成員不滿，一度拍桌「抗議」。華航企業工會今天針對全體員工提出8點訴求，希望董事長何煖軒正面回應及支持，如果不同意8點訴求，無疑就是逼他們走上街頭，雙方正進行協商中。（突發中心／桃園機場報導）華航企業工會提出的八項訴求：第1項訴求是恢復全體員工年度晉支，並追補原凍結之年資。第2全體員工包含機師交通時間，併入工作時間計算。第3空勤差旅費一律調升至每小時5美元，提升生活品質，所有機師及客艙組員條件一致。第4調高空勤差旅費之支出，公司其餘員工也必須受到同等照顧，要求地勤津貼調整到一萬五千元。第5保證全公司員工全年休假日為123天，國定假日上班2倍薪資。第6提高時薪人員的福利與待遇。第7提高現有證照津貼，另加6千元，機場人員代理航津貼為5千元，並將所有相關職場證照落實津貼給予。第8外派人員津貼不變，另提供住宿及交通。 \n",
      "【想知道更多，一定要看……】怒！何煖軒協商遲到　工會代表敲桌抗議 \n",
      "googletag.cmd.push(function() {googletag.display(\"InRead\");})\n",
      "googletag.cmd.push(function() {googletag.display('teadstv');})\n",
      "googletag.cmd.push(function() {googletag.display('goldenhorse');})\n",
      "googletag.cmd.push(function() {googletag.display('textlink');})\n",
      "有話要說 投稿「即時論壇」\n",
      "\n"
     ]
    }
   ],
   "source": [
    "import requests\n",
    "res = requests.get('http://www.appledaily.com.tw/realtimenews/article/local/20160627/895179/%E8%8B%A5%E4%B8%8D%E5%90%8C%E6%84%8F8%E8%A8%B4%E6%B1%82%E3%80%80%E8%8F%AF%E8%88%AA%E4%BC%81%E6%A5%AD%E5%B7%A5%E6%9C%83%EF%BC%9A%E8%A1%97%E9%A0%AD%E6%8A%97%E8%AD%B0%E8%A6%8B')\n",
    "from bs4 import BeautifulSoup\n",
    "soup = BeautifulSoup(res.text)\n",
    "print(soup.select('.trans')[0].text)"
   ]
  },
  {
   "cell_type": "code",
   "execution_count": 73,
   "metadata": {
    "collapsed": false
   },
   "outputs": [
    {
     "data": {
      "text/plain": [
       "8"
      ]
     },
     "execution_count": 73,
     "metadata": {},
     "output_type": "execute_result"
    }
   ],
   "source": [
    "def sumab(a, b):\n",
    "    return(a + b)\n",
    "sumab(3,5)"
   ]
  },
  {
   "cell_type": "code",
   "execution_count": 75,
   "metadata": {
    "collapsed": true
   },
   "outputs": [],
   "source": [
    "def getDetail(url):\n",
    "    res = requests.get(url)\n",
    "    soup = BeautifulSoup(res.text)\n",
    "    return(soup.select('.trans')[0].text)"
   ]
  },
  {
   "cell_type": "code",
   "execution_count": 76,
   "metadata": {
    "collapsed": false
   },
   "outputs": [
    {
     "name": "stdout",
     "output_type": "stream",
     "text": [
      "\n",
      "（新增配音版影片）新加坡航空（Singapore Airlines）一架自新加坡飛往米蘭的班機，今天凌晨起飛後不久因引擎油料出問題而返航，剛降落在樟宜機場，機翼即爆炸起火，所幸所有乘客均安全疏散，沒有傷亡。路透報導，這架波音777-300ER機型的飛機，今晨2時05分起飛，約2小時後，機長宣布引擎出現油料警示，客機須返回新加坡。上午6時50分，飛機降落在樟宜機場時，右側機翼立刻爆炸起火，所幸現場已有多輛消防車待命，火勢迅速被撲滅，機上222名乘客及19名機組員全部安全撤離。新航發布的聲明指，所有乘客經樓梯下機後，由巴士載往航廈，今天稍晚將改搭另一架客機飛往米蘭。報導指出，客機右機翼及一具奇異公司製造的GE90引擎可能受損。有專家表示，機長依循正確程序，一旦發現引擎有問題就立刻返航，在空中放油後安全降落，讓飛機免於發生更嚴重的意外。新航飛安紀錄甚佳，過去唯一發生的空難是2000年10月31日在台灣桃園機場起飛時，客機因飛錯跑道而撞上工程設備，導致179人中83人喪生。　（李寧怡／綜合外電報導） \n",
      "【想知道更多，一定要看……】​新航機翼起火　乘客：我與死神擦身【看了這則新聞的人，也看了……】顧客收據寫「胖子」　囂張小開活該被炒魷魚花千萬台幣買店面　買到的卻是這樣.....辛苦誕下龍鳳三胞胎　母罹癌憂無法伴兒長大新航乘客拍攝的爆炸起火畫面。　美聯社火勢撲滅後顯示機翼已被燒燬。　美聯社乘客順利撤離。　美聯社乘客無奈表情。　翻攝推特 \n",
      "googletag.cmd.push(function() {googletag.display(\"InRead\");})\n",
      "googletag.cmd.push(function() {googletag.display('teadstv');})\n",
      "googletag.cmd.push(function() {googletag.display('goldenhorse');})\n",
      "googletag.cmd.push(function() {googletag.display('textlink');})\n",
      "有話要說 投稿「即時論壇」\n",
      "\n"
     ]
    }
   ],
   "source": [
    "print(getDetail('http://www.appledaily.com.tw/realtimenews/article/international/20160627/895054'))"
   ]
  },
  {
   "cell_type": "code",
   "execution_count": 77,
   "metadata": {
    "collapsed": true
   },
   "outputs": [],
   "source": [
    "import requests\n",
    "from bs4 import BeautifulSoup\n",
    "domain = 'http://www.appledaily.com.tw'\n",
    "res = requests.get('http://www.appledaily.com.tw/realtimenews/section/new/')\n",
    "soup = BeautifulSoup(res.text)\n",
    "for news in soup.select('.rtddt a'):\n",
    "    #print(news)\n",
    "    if len(news.select('h1')) >0:\n",
    "        title = news.select('h1')[0].text\n",
    "        category = news.select('h2')[0].text\n",
    "        time = news.select('time')[0].text\n",
    "        url = domain + news['href']\n",
    "        content = getDetail(url)\n",
    "        "
   ]
  },
  {
   "cell_type": "code",
   "execution_count": null,
   "metadata": {
    "collapsed": true
   },
   "outputs": [],
   "source": []
  }
 ],
 "metadata": {
  "kernelspec": {
   "display_name": "Python 2",
   "language": "python",
   "name": "python2"
  },
  "language_info": {
   "codemirror_mode": {
    "name": "ipython",
    "version": 2
   },
   "file_extension": ".py",
   "mimetype": "text/x-python",
   "name": "python",
   "nbconvert_exporter": "python",
   "pygments_lexer": "ipython2",
   "version": "2.7.11"
  }
 },
 "nbformat": 4,
 "nbformat_minor": 0
}
